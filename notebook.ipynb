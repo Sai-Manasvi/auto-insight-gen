step 1 is load and explore review data
-- Sample 100 reviews from the "Books" category
SELECT
  review_id,
  review_body,
  star_rating,
  product_title,
  review_date
FROM
  `bigquery-public-data.amazon_reviews.us_reviews`
WHERE
  product_category = 'Books'
  AND review_body IS NOT NULL
LIMIT 100;


step 2 summarise reviews by products
-- Summarize reviews using GenAI
SELECT
  product_title,
  ML.GENERATE_TEXT(
    MODEL `bqml.text_bison`,
    CONCAT("Summarize the following reviews:\n\n", STRING_AGG(review_body, '\n\n')),
    STRUCT(0.7 AS temperature, 1024 AS max_output_tokens)
  ) AS ai_summary
FROM (
  SELECT product_title, review_body
  FROM `bigquery-public-data.amazon_reviews.us_reviews`
  WHERE product_category = 'Books'
  AND review_body IS NOT NULL
  LIMIT 100
)
GROUP BY product_title

step 3 detect positive/negative sentiment
SELECT
  review_body,
  AI.GENERATE_BOOL(
    "Is this customer review positive? " || review_body
  ) AS is_positive
FROM (
  SELECT review_body
  FROM `bigquery-public-data.amazon_reviews.us_reviews`
  WHERE product_category = 'Books'
  AND review_body IS NOT NULL
  LIMIT 20
);

step 4 forecast review volume over time
SELECT
  DATE(review_date) AS review_day,
  COUNT(*) AS review_count,
  AI.FORECAST(COUNT(*)) OVER() AS forecast_count
FROM `bigquery-public-data.amazon_reviews.us_reviews`
WHERE product_category = 'Books'
GROUP BY review_day
ORDER BY review_day


format for notebook
Title + Description
Load Data (SQL)
Summarize Reviews
Classify Sentiment
Forecast Trends
Visualization (Optional with BigFrames or Charts)
Architecture Diagram
Conclusion + What’s Next
